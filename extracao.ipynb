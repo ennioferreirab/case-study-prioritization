{
 "cells": [
  {
   "cell_type": "code",
   "execution_count": 1,
   "metadata": {},
   "outputs": [],
   "source": [
    "import os\n",
    "import pandas as pd\n",
    "\n",
    "def leitura_df(path):\n",
    "    arquivos_csv = [arquivo for arquivo in os.listdir(path) if arquivo.endswith(\".csv\")]\n",
    "\n",
    "    dataframes = []  # Lista para armazenar os dataframes de cada arquivo CSV\n",
    "\n",
    "    for arquivo_csv in arquivos_csv:\n",
    "        caminho_arquivo = os.path.join(path, arquivo_csv)\n",
    "        dataframe = pd.read_csv(caminho_arquivo)\n",
    "        dataframes.append(dataframe)\n",
    "\n",
    "    df = pd.concat(dataframes, ignore_index=True)\n",
    "    return df\n",
    "\n",
    "\n",
    "def ler_arquivo_censo(caminho_arquivo):\n",
    "    with open(caminho_arquivo, 'r') as arquivo:\n",
    "        linhas = arquivo.readlines()\n",
    "\n",
    "    dados = []\n",
    "\n",
    "    for linha in linhas:\n",
    "        linha = linha.strip()\n",
    "        if linha.startswith(('GOVERNO DO', 'SECRETARIA DE', 'SUBSECRETARIA DE', 'DIRETORIA DE', 'GERÊNCIA DE', 'QUADRO', 'REDE PÚBLICA', 'CENSO ESCOLAR', 'RA', 'Tur Matr', 'TOTAL', 'FONTE', 'NOTA', 'Z:')):\n",
    "            continue\n",
    "        elif linha == '':\n",
    "            continue\n",
    "        else:\n",
    "            dados.append(linha.split())\n",
    "\n",
    "    colunas = dados.pop(0)\n",
    "    df = pd.DataFrame(dados, columns=colunas)\n",
    "\n",
    "    return df"
   ]
  },
  {
   "cell_type": "code",
   "execution_count": 2,
   "metadata": {},
   "outputs": [],
   "source": [
    "import pandas as pd\n",
    "\n",
    "ras_obitos_nascidos = pd.DataFrame({\n",
    "    'Cidade': [\n",
    "        'Plano Piloto', 'Gama', 'Taguatinga', 'Brazlândia', 'Sobradinho', 'Planaltina',\n",
    "        'Paranoá', 'Núcleo Bandeirante', 'Ceilândia', 'Guará', 'Cruzeiro',\n",
    "        'Samambaia', 'Santa Maria', 'São Sebastião', 'Recanto das Emas', 'Lago Sul',\n",
    "        'Riacho Fundo II', 'Lago Norte', 'Candangolândia', 'Águas Claras', 'Riacho Fundo',\n",
    "        'Sudoeste/Octogonal', 'Varjão', 'Park Way', 'SCIA/Estrutural', 'Sobradinho II',\n",
    "        'Jardim Botânico', 'Itapoã', 'SIA', 'Vicente Pires', 'Fercal', 'Sol Nascente/Pôr do Sol'\n",
    "    ],\n",
    "    'RA': [\n",
    "        1, 2, 3, 4, 5, 6, 7, 8, 9, 10, 11, 12, 13, 14, 15, 16, 17, 18, 19, 20, 21, 22, 23, 24, 25, 26,\n",
    "        27, 28, 29, 30, 31, 32\n",
    "    ]\n",
    "})\n"
   ]
  },
  {
   "attachments": {},
   "cell_type": "markdown",
   "metadata": {},
   "source": [
    "## Obtidos DF"
   ]
  },
  {
   "cell_type": "code",
   "execution_count": 3,
   "metadata": {},
   "outputs": [],
   "source": [
    "obitos = leitura_df(\"obtidos/2022\")\n",
    "obitos = obitos.merge(ras_obitos_nascidos, left_on='i_desc_radf_res',right_on='Cidade', how='left')\n"
   ]
  },
  {
   "cell_type": "code",
   "execution_count": 4,
   "metadata": {},
   "outputs": [],
   "source": [
    "obitos_fetais = obitos[obitos['i_desc_tipo_obito'] == 'fetal']\n"
   ]
  },
  {
   "cell_type": "code",
   "execution_count": 5,
   "metadata": {},
   "outputs": [],
   "source": [
    "#i_qtd_obitos"
   ]
  },
  {
   "attachments": {},
   "cell_type": "markdown",
   "metadata": {},
   "source": [
    "## Nascidos Vivos"
   ]
  },
  {
   "cell_type": "code",
   "execution_count": 6,
   "metadata": {},
   "outputs": [],
   "source": [
    "#i_qtd_nasc"
   ]
  },
  {
   "cell_type": "code",
   "execution_count": 7,
   "metadata": {},
   "outputs": [],
   "source": [
    "nascidos_vivos = leitura_df(\"nascidos_vivos/2022\")\n",
    "nascidos_vivos = nascidos_vivos.merge(ras_obitos_nascidos, left_on='i_desc_radf_res_mae',right_on='Cidade', how='left')"
   ]
  },
  {
   "cell_type": "code",
   "execution_count": 8,
   "metadata": {},
   "outputs": [],
   "source": [
    "df_obitos_nasc = obitos.merge(nascidos_vivos, on='RA', how='left')"
   ]
  },
  {
   "cell_type": "code",
   "execution_count": 9,
   "metadata": {},
   "outputs": [],
   "source": [
    "df_fetal = df_obitos_nasc[df_obitos_nasc['i_desc_tipo_obito'] == 'fetal']\n",
    "df_fetal_ra = df_fetal.groupby('RA').agg({'i_qtd_obitos': 'sum', 'i_qtd_nasc': 'sum'})\n",
    "df_fetal_ra['S3'] = (df_fetal_ra['i_qtd_obitos'] / df_fetal_ra['i_qtd_nasc'] * 1000).round(3)"
   ]
  },
  {
   "attachments": {},
   "cell_type": "markdown",
   "metadata": {},
   "source": [
    "#### Mortes evitaveis"
   ]
  },
  {
   "cell_type": "code",
   "execution_count": 10,
   "metadata": {},
   "outputs": [],
   "source": [
    "lista_codigo_mortes_evitaveis = pd.read_csv(\"obtidos/lista_mortes_evitaveis/codigo.csv\", sep=\",\")\n",
    "obitos['mortes_evitaveis'] = obitos['i_cid_obito'].isin(lista_codigo_mortes_evitaveis['i_cid_obito'])\n",
    "obitos['mortes_evitaveis'] = obitos['mortes_evitaveis'].fillna(False)\n"
   ]
  },
  {
   "cell_type": "code",
   "execution_count": 11,
   "metadata": {},
   "outputs": [],
   "source": [
    "df_obitos_evitaveis = obitos[obitos['mortes_evitaveis'] == True]\n",
    "df_obitos_evitaveis_ra = df_obitos_evitaveis.groupby('RA').agg(S4=('i_qtd_obitos','sum'))"
   ]
  },
  {
   "attachments": {},
   "cell_type": "markdown",
   "metadata": {},
   "source": [
    "## Censo Escolar DF"
   ]
  },
  {
   "attachments": {},
   "cell_type": "markdown",
   "metadata": {},
   "source": [
    "### media turmas ensino fundamental 2019"
   ]
  },
  {
   "cell_type": "code",
   "execution_count": 12,
   "metadata": {},
   "outputs": [],
   "source": [
    "import pandas as pd\n",
    "\n",
    "def ler_arquivo(nome_arquivo):\n",
    "    df = pd.read_csv(nome_arquivo, delimiter=';')\n",
    "    return df\n",
    "\n",
    "file_path = 'educacao/media_fundamental_2019.csv'"
   ]
  },
  {
   "cell_type": "code",
   "execution_count": 13,
   "metadata": {},
   "outputs": [],
   "source": [
    "media_alunos_turma_fundamental = ler_arquivo(file_path)"
   ]
  },
  {
   "cell_type": "code",
   "execution_count": 14,
   "metadata": {},
   "outputs": [],
   "source": [
    "taxa_defasagem_fundamental = pd.read_csv('educacao/porcentagem_defasagem_idade_serie_fundamentao_2019.csv', delimiter=';')"
   ]
  },
  {
   "cell_type": "code",
   "execution_count": 15,
   "metadata": {},
   "outputs": [],
   "source": [
    "taxa_reprovacao_fundamental = pd.read_csv('educacao/reprovacao_fundamentao_2019.csv', delimiter=';') "
   ]
  },
  {
   "attachments": {},
   "cell_type": "markdown",
   "metadata": {},
   "source": [
    "## Pdad 2021"
   ]
  },
  {
   "cell_type": "code",
   "execution_count": 16,
   "metadata": {},
   "outputs": [
    {
     "name": "stderr",
     "output_type": "stream",
     "text": [
      "/var/folders/q5/sd340ftx67vgbyk_3nznc82h0000gn/T/ipykernel_62357/147846973.py:3: FutureWarning: The default value of regex will change from True to False in a future version.\n",
      "  pdad_2021_mor['renda_ind_r'] = pdad_2021_mor['renda_ind_r'].str.replace(',', '.').str.replace(r'[^0-9.]', '0').astype(float)\n"
     ]
    }
   ],
   "source": [
    "pdad_2021_mor = pd.read_csv('pdad/2021/PDAD_2021-Moradores.csv', sep=';',decimal=',', encoding='latin-1', low_memory=False)\n",
    "#pdad_2021_mor['PESO_MOR'] = pdad_2021_mor['PESO_MOR'].str.replace(',', '.').astype(float)\n",
    "pdad_2021_mor['renda_ind_r'] = pdad_2021_mor['renda_ind_r'].str.replace(',', '.').str.replace(r'[^0-9.]', '0').astype(float)"
   ]
  },
  {
   "cell_type": "code",
   "execution_count": 17,
   "metadata": {},
   "outputs": [
    {
     "name": "stderr",
     "output_type": "stream",
     "text": [
      "/var/folders/q5/sd340ftx67vgbyk_3nznc82h0000gn/T/ipykernel_62357/1380784816.py:1: FutureWarning: The default value of numeric_only in DataFrameGroupBy.sum is deprecated. In a future version, numeric_only will default to False. Either specify numeric_only or select only columns which should be valid for the function.\n",
      "  proj_pop_ra = pdad_2021_mor.groupby('A01ra').sum()['PESO_MOR']\n"
     ]
    }
   ],
   "source": [
    "proj_pop_ra = pdad_2021_mor.groupby('A01ra').sum()['PESO_MOR']"
   ]
  },
  {
   "cell_type": "code",
   "execution_count": 18,
   "metadata": {},
   "outputs": [],
   "source": [
    "#var_se1 = pdad_2021_mor.query('H11 >= 9 and H13 == 1').groupby('A01ra').count()['A01nficha']\n",
    "var_se1 = pdad_2021_mor.query('H11 >= 9').groupby('A01ra').agg(SE1=('PESO_MOR', 'sum'))"
   ]
  },
  {
   "cell_type": "code",
   "execution_count": 19,
   "metadata": {},
   "outputs": [
    {
     "data": {
      "text/html": [
       "<div>\n",
       "<style scoped>\n",
       "    .dataframe tbody tr th:only-of-type {\n",
       "        vertical-align: middle;\n",
       "    }\n",
       "\n",
       "    .dataframe tbody tr th {\n",
       "        vertical-align: top;\n",
       "    }\n",
       "\n",
       "    .dataframe thead th {\n",
       "        text-align: right;\n",
       "    }\n",
       "</style>\n",
       "<table border=\"1\" class=\"dataframe\">\n",
       "  <thead>\n",
       "    <tr style=\"text-align: right;\">\n",
       "      <th></th>\n",
       "      <th>SE1</th>\n",
       "      <th>PESO_MOR</th>\n",
       "      <th>SE1_porcent</th>\n",
       "    </tr>\n",
       "    <tr>\n",
       "      <th>A01ra</th>\n",
       "      <th></th>\n",
       "      <th></th>\n",
       "      <th></th>\n",
       "    </tr>\n",
       "  </thead>\n",
       "  <tbody>\n",
       "    <tr>\n",
       "      <th>1</th>\n",
       "      <td>218961.371113</td>\n",
       "      <td>224848.0</td>\n",
       "      <td>97.381952</td>\n",
       "    </tr>\n",
       "    <tr>\n",
       "      <th>2</th>\n",
       "      <td>114481.403170</td>\n",
       "      <td>137331.0</td>\n",
       "      <td>83.361661</td>\n",
       "    </tr>\n",
       "    <tr>\n",
       "      <th>3</th>\n",
       "      <td>184864.558136</td>\n",
       "      <td>210498.0</td>\n",
       "      <td>87.822477</td>\n",
       "    </tr>\n",
       "  </tbody>\n",
       "</table>\n",
       "</div>"
      ],
      "text/plain": [
       "                 SE1  PESO_MOR  SE1_porcent\n",
       "A01ra                                      \n",
       "1      218961.371113  224848.0    97.381952\n",
       "2      114481.403170  137331.0    83.361661\n",
       "3      184864.558136  210498.0    87.822477"
      ]
     },
     "execution_count": 19,
     "metadata": {},
     "output_type": "execute_result"
    }
   ],
   "source": [
    "df_var_se1 = pd.merge(var_se1, proj_pop_ra, on='A01ra')\n",
    "df_var_se1['SE1_porcent'] = df_var_se1['SE1'] / df_var_se1['PESO_MOR'] * 100\n",
    "df_var_se1.head(3)"
   ]
  },
  {
   "cell_type": "code",
   "execution_count": 20,
   "metadata": {},
   "outputs": [],
   "source": [
    "var_se2 = pdad_2021_mor.query('I22_1 > 0 and I22_1 < 77777 and renda_ind_r < 200').groupby('A01ra').agg(SE2=('PESO_MOR', 'sum'))\n",
    "var_se3 = pdad_2021_mor.query('I22_1 > 0 and I22_1 < 77777 and renda_ind_r < 100').groupby('A01ra').agg(SE3=('PESO_MOR', 'sum'))\n",
    "df_var_se2_se3 = pd.merge(var_se2, proj_pop_ra, on='A01ra')\n",
    "df_var_se2_se3 = pd.merge(df_var_se2_se3, var_se3, on='A01ra')\n",
    "df_var_se2_se3['SE2_10000'] = df_var_se2_se3['SE2'] / df_var_se2_se3['PESO_MOR'] * 10000\n",
    "df_var_se2_se3['SE3_10000'] = df_var_se2_se3['SE3'] / df_var_se2_se3['PESO_MOR'] * 10000\n"
   ]
  },
  {
   "cell_type": "code",
   "execution_count": 21,
   "metadata": {},
   "outputs": [
    {
     "data": {
      "text/html": [
       "<div>\n",
       "<style scoped>\n",
       "    .dataframe tbody tr th:only-of-type {\n",
       "        vertical-align: middle;\n",
       "    }\n",
       "\n",
       "    .dataframe tbody tr th {\n",
       "        vertical-align: top;\n",
       "    }\n",
       "\n",
       "    .dataframe thead th {\n",
       "        text-align: right;\n",
       "    }\n",
       "</style>\n",
       "<table border=\"1\" class=\"dataframe\">\n",
       "  <thead>\n",
       "    <tr style=\"text-align: right;\">\n",
       "      <th></th>\n",
       "      <th>SE4</th>\n",
       "      <th>PESO_MOR</th>\n",
       "      <th>SE4_percent</th>\n",
       "    </tr>\n",
       "    <tr>\n",
       "      <th>A01ra</th>\n",
       "      <th></th>\n",
       "      <th></th>\n",
       "      <th></th>\n",
       "    </tr>\n",
       "  </thead>\n",
       "  <tbody>\n",
       "    <tr>\n",
       "      <th>1</th>\n",
       "      <td>27901.073650</td>\n",
       "      <td>224848.0</td>\n",
       "      <td>12.408860</td>\n",
       "    </tr>\n",
       "    <tr>\n",
       "      <th>2</th>\n",
       "      <td>12072.526316</td>\n",
       "      <td>137331.0</td>\n",
       "      <td>8.790824</td>\n",
       "    </tr>\n",
       "    <tr>\n",
       "      <th>3</th>\n",
       "      <td>23566.307351</td>\n",
       "      <td>210498.0</td>\n",
       "      <td>11.195502</td>\n",
       "    </tr>\n",
       "  </tbody>\n",
       "</table>\n",
       "</div>"
      ],
      "text/plain": [
       "                SE4  PESO_MOR  SE4_percent\n",
       "A01ra                                     \n",
       "1      27901.073650  224848.0    12.408860\n",
       "2      12072.526316  137331.0     8.790824\n",
       "3      23566.307351  210498.0    11.195502"
      ]
     },
     "execution_count": 21,
     "metadata": {},
     "output_type": "execute_result"
    }
   ],
   "source": [
    "var_se4 = pdad_2021_mor.query('idade > 65').groupby('A01ra').agg(SE4=('PESO_MOR', 'sum'))\n",
    "var_se4 = pd.merge(var_se4, proj_pop_ra, on='A01ra')\n",
    "var_se4['SE4_percent'] = var_se4['SE4'] / var_se4['PESO_MOR'] * 100\n",
    "var_se4.head(3)"
   ]
  },
  {
   "cell_type": "code",
   "execution_count": 22,
   "metadata": {},
   "outputs": [],
   "source": [
    "var_se5_dependente = pdad_2021_mor.query('idade < 15 or idade > 60').groupby('A01ra').agg(SE5_DEP=('PESO_MOR', 'sum'))\n",
    "var_se5_ativos = pdad_2021_mor.query('idade > 15 and idade < 60').groupby('A01ra').agg(SE5_ATIV=('PESO_MOR', 'sum'))\n",
    "var_se5 = pd.merge(var_se5_dependente, var_se5_ativos, on='A01ra')\n",
    "var_se5['SE5_percent'] = var_se5['SE5_DEP'] / var_se5['SE5_ATIV'] * 100"
   ]
  },
  {
   "attachments": {},
   "cell_type": "markdown",
   "metadata": {},
   "source": [
    "### Segurança publica"
   ]
  },
  {
   "attachments": {},
   "cell_type": "markdown",
   "metadata": {},
   "source": [
    " data = {\n",
    "    'RA': [1,2,3,4,5,6,7,8,9,10,11,12,13,14,15,16,17,18,19,20,21,22,23,24,25,26,27,28,29,30,31,32,33\n",
    "    ],\n",
    "    'Cidade': [\n",
    "        'Brasília', 'Gama', 'Taguatinga', 'Brazlândia', 'Sobradinho', 'Planaltina',\n",
    "        'Paranoá', 'Núcleo Bandeirante', 'Ceilândia', 'Guará', 'Cruzeiro', 'Samambaia',\n",
    "        'Santa Maria', 'São Sebastião', 'Recanto das Emas', 'Lago Sul', 'Riacho Fundo',\n",
    "        'Lago Norte', 'Candangolândia', 'Águas Claras', 'Riacho Fundo 2', 'Sudoeste',\n",
    "        'Varjão do Torto', 'Park Way', 'Estrutural', 'Sobradinho 2', 'Jardim Botânico',\n",
    "        'Itapoã', 'SIA', 'Vicente Pires', 'Fercal', 'Sol Nascente/Pôr do Sol',\n",
    "        'Arniqueira'\n",
    "    ],\n",
    "    'Ocorrencias': [\n",
    "        4869, 1145, 3127, 272, 379, 1000, 913, 296, 4701, 825, 94, 2753, 1236, 591,\n",
    "        1166, 69, 230, 119, 70, 582, 295, 147, 30, 33, 455, 234, 23, 666, 215, 292, 22,\n",
    "        509, 206\n",
    "    ]\n",
    "}"
   ]
  },
  {
   "cell_type": "code",
   "execution_count": 23,
   "metadata": {},
   "outputs": [],
   "source": [
    "ccp_2022 = pd.read_csv('seguranca/2022/ccp.csv', sep=';', low_memory=False).set_index('RA',inplace=False)\n",
    "ccp_2022 = ccp_2022.merge(proj_pop_ra, how='left', left_index=True, right_index=True)\n",
    "ccp_2022['SEG1_1000'] = ccp_2022['Ocorrencias'] / ccp_2022['PESO_MOR'] * 1000"
   ]
  },
  {
   "attachments": {},
   "cell_type": "markdown",
   "metadata": {},
   "source": [
    "import pandas as pd\n",
    "data = {\n",
    "    'RA': [1, 2, 3, 4, 5, 6, 7, 8, 9, 10, 11, 12, 13, 14, 15, 16, 17, 18, 19, 20, 21, 22, 23, 24, 25, 26, 27, 28, 29, 30, 31, 32, 33],\n",
    "    'Cidade': [\n",
    "        'Brasília', 'Gama', 'Taguatinga', 'Brazlândia', 'Sobradinho', 'Planaltina',\n",
    "        'Paranoá', 'Núcleo Bandeirante', 'Ceilândia', 'Guará', 'Cruzeiro', 'Samambaia',\n",
    "        'Santa Maria', 'São Sebastião', 'Recanto das Emas', 'Lago Sul', 'Riacho Fundo',\n",
    "        'Lago Norte', 'Candangolândia', 'Águas Claras', 'Riacho Fundo 2', 'Sudoeste',\n",
    "        'Varjão do Torto', 'Park Way', 'Estrutural', 'Sobradinho 2', 'Jardim Botânico',\n",
    "        'Itapoã', 'SIA', 'Vicente Pires', 'Fercal', 'Sol Nascente/Pôr do Sol',\n",
    "        'Arniqueira'\n",
    "    ],\n",
    "    'Ocorrencias': [\n",
    "        8, 6, 17, 8, 3, 22, 9, 4, 37, 4, 1, 19, 17, 24, 23, '-', 4, 2, 3, '-', 5, 2, 2, 1, 12, 9, '-', 10, 1, 5, 4, 17, 6\n",
    "    ]\n",
    "}\n"
   ]
  },
  {
   "cell_type": "code",
   "execution_count": 24,
   "metadata": {},
   "outputs": [],
   "source": [
    "cvli_2022 = pd.read_csv('seguranca/2022/cvli.csv', sep=';', low_memory=False).set_index('RA',inplace=False)\n",
    "cvli_2022 = cvli_2022.merge(proj_pop_ra, how='left', left_index=True, right_index=True)\n",
    "cvli_2022['Ocorrencias'] = cvli_2022['Ocorrencias'].str.replace('-', '0').astype(float)\n",
    "cvli_2022['SEG2_100000'] = cvli_2022['Ocorrencias'] / cvli_2022['PESO_MOR'] * 100000"
   ]
  },
  {
   "attachments": {},
   "cell_type": "markdown",
   "metadata": {},
   "source": [
    "# Join final"
   ]
  },
  {
   "cell_type": "code",
   "execution_count": 53,
   "metadata": {},
   "outputs": [],
   "source": [
    "S3 = df_fetal_ra['S3']\n",
    "df_obitos_evitaveis_ra_pop = df_obitos_evitaveis_ra.merge(proj_pop_ra, how='left', left_index=True, right_index=True)\n",
    "df_obitos_evitaveis_ra_pop['S4_10000'] = df_obitos_evitaveis_ra_pop['S4'] / df_obitos_evitaveis_ra_pop['PESO_MOR'] * 10000\n",
    "S4= df_obitos_evitaveis_ra_pop['S4_10000']\n",
    "media_alunos_turma_fundamental['E2'] =  media_alunos_turma_fundamental['total matriculas'] / media_alunos_turma_fundamental['turmas']\n",
    "E2 = media_alunos_turma_fundamental['E2']\n",
    "taxa_defasagem_fundamental = pd.read_csv('educacao/porcentagem_defasagem_idade_serie_fundamentao_2019.csv', delimiter=';').rename(columns={'% Defasagem Idade-Série Fundamental':'E5'}, inplace=False)\n",
    "taxa_reprovacao_fundamental = pd.read_csv('educacao/reprovacao_fundamentao_2019.csv', delimiter=';').rename(columns={'Reprovados em %':'E6'}, inplace=False) \n",
    "E5 = taxa_defasagem_fundamental['E5']\n",
    "E6 = taxa_reprovacao_fundamental['E6']\n",
    "SE1 = df_var_se1['SE1_porcent']\n",
    "SE2 = df_var_se2_se3['SE2_10000']\n",
    "SE3 = df_var_se2_se3['SE3_10000']\n",
    "SE4 = var_se4['SE4_percent']\n",
    "SE5 = var_se5['SE5_percent']\n",
    "SEG1 = ccp_2022['SEG1_1000']\n",
    "SEG2 = cvli_2022['SEG2_100000']\n"
   ]
  },
  {
   "cell_type": "code",
   "execution_count": 59,
   "metadata": {},
   "outputs": [],
   "source": [
    "df_agregado = (\n",
    "    ras_obitos_nascidos.set_index('RA', inplace=False)\n",
    "    .join(S3.to_frame('S3'))\n",
    "    .join(S4.to_frame('S4'))\n",
    "    .join(E2.to_frame('E2'))\n",
    "    .join(E5.to_frame('E5'))\n",
    "    .join(E6.to_frame('E6'))\n",
    "    .join(SE1.to_frame('SE1'))\n",
    "    .join(SE2.to_frame('SE2'))\n",
    "    .join(SE3.to_frame('SE3'))\n",
    "    .join(SE4.to_frame('SE4'))\n",
    "    .join(SE5.to_frame('SE5'))\n",
    "    .join(SEG1.to_frame('SEG1'))\n",
    "    .join(SEG2.to_frame('SEG2'))\n",
    "    .join(proj_pop_ra.to_frame('POP_ESTIM'))\n",
    ")"
   ]
  },
  {
   "cell_type": "code",
   "execution_count": 62,
   "metadata": {},
   "outputs": [],
   "source": [
    "variaveis_df_agregado = {\n",
    "    'S3': \"Taxa de mortalidade fetal (por mil nascidos vivos)\",\n",
    "    'S4': \"Taxa de mortalidade por causas evitáveis (por 10.000 habitantes)\",\n",
    "    'E2': \"Média de alunos por turma no ensino fundamental\",\n",
    "    'E5': \"Taxa de defasagem idade-série no ensino fundamental\",\n",
    "    'E6': \"Taxa de reprovação no ensino fundamental\",\n",
    "    'SE1': \"Grau de instrução dos eleitores do Brasil Esse indicador foi utilizado como proxy para o grau de escolaridade da população. Proporção da população com ensino médio ou mais concluído\",\n",
    "    'SE2': \"Proporção de famílias em situação de pobreza (R$ < 200) que recebe benefícios sociais (Bolsa-família, BPC/LOAS, Bolsa de estudo)\",\n",
    "    'SE3': \"Proporção de famílias em situação de extrema pobreza (R$ < 100) que recebe benefícios sociais (Bolsa-família, BPC/LOAS, Bolsa de estudo)\",\n",
    "    'SE4': \"Porcentagem da população com 65 anos ou mais\",\n",
    "    'SE5': \"Razão de dependência (população com menos de 15 anos e mais de 60 anos em relação à população de 15 a 60 anos)\",\n",
    "    'SEG1': \"Taxa de ocorrências de crimes e delitos registrados pela CCP (por 1.000 habitantes)\",\n",
    "    'SEG2': \"Taxa de CVLI (Crimes Violentos Letais Intencionais) (por 100.000 habitantes)\",\n",
    "    'POP_ESTIM': \"População estimada na Região Administrativa (RA)\"\n",
    "}\n",
    "df_agregado.to_csv('df_agregado.csv', sep=';', encoding='utf-8', index=True)"
   ]
  }
 ],
 "metadata": {
  "kernelspec": {
   "display_name": "ml_base",
   "language": "python",
   "name": "python3"
  },
  "language_info": {
   "codemirror_mode": {
    "name": "ipython",
    "version": 3
   },
   "file_extension": ".py",
   "mimetype": "text/x-python",
   "name": "python",
   "nbconvert_exporter": "python",
   "pygments_lexer": "ipython3",
   "version": "3.10.6"
  },
  "orig_nbformat": 4
 },
 "nbformat": 4,
 "nbformat_minor": 2
}
